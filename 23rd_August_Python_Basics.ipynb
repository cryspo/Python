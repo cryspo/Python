{
 "cells": [
  {
   "cell_type": "markdown",
   "id": "9cd5cf25",
   "metadata": {},
   "source": [
    "# Python Basics Variable"
   ]
  },
  {
   "cell_type": "markdown",
   "id": "cc496193",
   "metadata": {},
   "source": [
    "1. Declare two variables, `x` and `y`, and assign them integer values.\n",
    "Swap the values of these variables without using any temporary variable."
   ]
  },
  {
   "cell_type": "code",
   "execution_count": 1,
   "id": "fe34459a",
   "metadata": {},
   "outputs": [
    {
     "name": "stdout",
     "output_type": "stream",
     "text": [
      "4 3\n"
     ]
    }
   ],
   "source": [
    "x = 3\n",
    "y = 4\n",
    "\n",
    "y,x=x,y\n",
    "\n",
    "print(x,y)"
   ]
  },
  {
   "cell_type": "markdown",
   "id": "76b04d22",
   "metadata": {},
   "source": [
    "2. Create a program that calculates the area of a rectangle. Take the length and width as inputs from the user and store them in variables. Calculate and display the area."
   ]
  },
  {
   "cell_type": "code",
   "execution_count": 3,
   "id": "8645f68b",
   "metadata": {},
   "outputs": [
    {
     "name": "stdout",
     "output_type": "stream",
     "text": [
      "Enter Length of the Rectangle:4\n",
      "Enter width of the Rectangele:5\n",
      "Area of a rectab]ngle is :  20\n"
     ]
    }
   ],
   "source": [
    "length = int(input(\"Enter Length of the Rectangle:\"))\n",
    "width = int(input(\"Enter width of the Rectangele:\"))\n",
    "\n",
    "area = length * width\n",
    "print(\"Area of a rectab]ngle is : \",area)"
   ]
  },
  {
   "cell_type": "markdown",
   "id": "bea3d2e4",
   "metadata": {},
   "source": [
    "3. Write a Python program that converts temperatures from Celsius to Fahrenheit. Take the temperature in Celsius as input, store it in a variable, convert it to Fahrenheit, and display the result."
   ]
  },
  {
   "cell_type": "code",
   "execution_count": 6,
   "id": "aa2ed13b",
   "metadata": {},
   "outputs": [
    {
     "name": "stdout",
     "output_type": "stream",
     "text": [
      "Enter tempeture as celcius:34\n",
      "34 degree celsius is  93.2  Fahrenhiet\n"
     ]
    }
   ],
   "source": [
    "celsius = int(input(\"Enter tempeture as celcius:\"))\n",
    "Fahrenhiet = (celsius*9/5)+32\n",
    "print(celsius,\"degree celsius is \",Fahrenhiet,\" Fahrenhiet\")"
   ]
  },
  {
   "cell_type": "markdown",
   "id": "de1a628c",
   "metadata": {},
   "source": [
    "# String Based Questions"
   ]
  },
  {
   "cell_type": "markdown",
   "id": "bca46146",
   "metadata": {},
   "source": [
    "1. Write a Python program that takes a string as input and prints the length of the string."
   ]
  },
  {
   "cell_type": "code",
   "execution_count": 7,
   "id": "e5e31f02",
   "metadata": {},
   "outputs": [
    {
     "name": "stdout",
     "output_type": "stream",
     "text": [
      "Enter a String:rabindra\n",
      "Length of the string rabindra  is  8\n"
     ]
    }
   ],
   "source": [
    "string = input(\"Enter a String:\")\n",
    "length = len(string)\n",
    "print(\"Length of the string\",string,\" is \",length)"
   ]
  },
  {
   "cell_type": "markdown",
   "id": "1ee21258",
   "metadata": {},
   "source": [
    "2. Create a program that takes a sentence from the user and counts the number of vowels (a, e, i, o, u) in the string."
   ]
  },
  {
   "cell_type": "code",
   "execution_count": 11,
   "id": "56c04bdc",
   "metadata": {},
   "outputs": [
    {
     "name": "stdout",
     "output_type": "stream",
     "text": [
      "Enter a string:My name is rabindra\n",
      "The number of vowels in the string:  6\n"
     ]
    }
   ],
   "source": [
    "string = str.lower(input(\"Enter a string:\"))\n",
    "count = 0\n",
    "for i in string:\n",
    "    if i=='a' or i == 'e' or i == 'i' or i == 'o' or i == 'u':\n",
    "        count+=1\n",
    "print(\"The number of vowels in the string: \",count)\n",
    "    "
   ]
  },
  {
   "cell_type": "markdown",
   "id": "c897308a",
   "metadata": {},
   "source": [
    "3. Given a string, reverse the order of characters using string slicing and print the reversed string."
   ]
  },
  {
   "cell_type": "code",
   "execution_count": 13,
   "id": "6eff072e",
   "metadata": {},
   "outputs": [
    {
     "name": "stdout",
     "output_type": "stream",
     "text": [
      "Reverse string:  yob a ma I\n"
     ]
    }
   ],
   "source": [
    "string = 'I am a boy'\n",
    "print(\"Reverse string: \",string[::-1])"
   ]
  },
  {
   "cell_type": "markdown",
   "id": "250342b3",
   "metadata": {},
   "source": [
    "4. Write a program that takes a string as input and checks if it is a palindrome (reads the same forwards and backwards)."
   ]
  },
  {
   "cell_type": "code",
   "execution_count": 14,
   "id": "df631261",
   "metadata": {},
   "outputs": [
    {
     "name": "stdout",
     "output_type": "stream",
     "text": [
      "Enter a word:liril\n",
      "liril  is pallindrome\n"
     ]
    }
   ],
   "source": [
    "str1 = input(\"Enter a word:\")\n",
    "str2 = str1[::-1]\n",
    "\n",
    "if  str1 == str2:\n",
    "    print (str1,\" is pallindrome\")\n",
    "else:\n",
    "    print(\"String is not pallindrome\")"
   ]
  },
  {
   "cell_type": "markdown",
   "id": "c2abda99",
   "metadata": {},
   "source": [
    "5. Create a program that takes a string as input and removes all the spaces from it. Print the modified string without spaces."
   ]
  },
  {
   "cell_type": "code",
   "execution_count": 19,
   "id": "52365b17",
   "metadata": {},
   "outputs": [
    {
     "name": "stdout",
     "output_type": "stream",
     "text": [
      "Eneter a string:    I am a boy.      \n",
      "After removing all spaces:  Iamaboy.\n"
     ]
    }
   ],
   "source": [
    "str1 = input(\"Eneter a string:\")\n",
    "print(\"After removing all spaces: \",str1.replace(\" \",\"\"))"
   ]
  },
  {
   "cell_type": "code",
   "execution_count": null,
   "id": "f9f38c08",
   "metadata": {},
   "outputs": [],
   "source": []
  }
 ],
 "metadata": {
  "kernelspec": {
   "display_name": "Python 3",
   "language": "python",
   "name": "python3"
  },
  "language_info": {
   "codemirror_mode": {
    "name": "ipython",
    "version": 3
   },
   "file_extension": ".py",
   "mimetype": "text/x-python",
   "name": "python",
   "nbconvert_exporter": "python",
   "pygments_lexer": "ipython3",
   "version": "3.8.8"
  }
 },
 "nbformat": 4,
 "nbformat_minor": 5
}
